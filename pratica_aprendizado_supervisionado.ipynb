{
 "cells": [
  {
   "cell_type": "markdown",
   "metadata": {
    "colab_type": "text",
    "id": "KjXjyPKBhB3U"
   },
   "source": [
    "# Prática de Aprendizado Supervisionado"
   ]
  },
  {
   "cell_type": "markdown",
   "metadata": {
    "colab_type": "text",
    "id": "tNWvljthg4r6"
   },
   "source": [
    "**Importando bibliotecas e funções**"
   ]
  },
  {
   "cell_type": "code",
   "execution_count": 3,
   "metadata": {
    "colab": {
     "base_uri": "https://localhost:8080/",
     "height": 17,
     "output_embedded_package_id": "1vedso0G6Hg6iXmvMNbdmOGHlrgiqvdGf"
    },
    "colab_type": "code",
    "executionInfo": {
     "elapsed": 3874,
     "status": "ok",
     "timestamp": 1560478376260,
     "user": {
      "displayName": "Gustavo Aguilar",
      "photoUrl": "https://lh3.googleusercontent.com/-sWZXymKE-20/AAAAAAAAAAI/AAAAAAAAAL8/8xRfEfa7OAo/s64/photo.jpg",
      "userId": "07684403321470028592"
     },
     "user_tz": 180
    },
    "id": "20jwzFXVgK22",
    "outputId": "d2aae2c0-06fb-4be7-9dba-d0c3b7bfe91f"
   },
   "outputs": [],
   "source": [
    "import pandas as pd\n",
    "import numpy as np\n",
    "from sklearn import preprocessing\n",
    "from scipy.io.arff import loadarff\n",
    "from sklearn.naive_bayes import GaussianNB\n",
    "from sklearn.linear_model import LogisticRegression\n",
    "from sklearn.tree import DecisionTreeClassifier\n",
    "from sklearn.neighbors import KNeighborsClassifier, NearestNeighbors\n",
    "from sklearn.discriminant_analysis import LinearDiscriminantAnalysis\n",
    "from sklearn.svm import SVC\n",
    "from sklearn.ensemble import RandomForestClassifier\n",
    "from sklearn.neural_network import MLPClassifier\n",
    "from sklearn.metrics import confusion_matrix, f1_score, precision_score, recall_score\n",
    "from sklearn.model_selection import train_test_split\n",
    "import time\n",
    "import warnings\n",
    "\n",
    "warnings.filterwarnings(\"ignore\")"
   ]
  },
  {
   "cell_type": "markdown",
   "metadata": {
    "colab_type": "text",
    "id": "0-P303uTh_SC"
   },
   "source": [
    "**Lendo o arquivo**"
   ]
  },
  {
   "cell_type": "code",
   "execution_count": 4,
   "metadata": {
    "colab": {
     "base_uri": "https://localhost:8080/",
     "height": 224
    },
    "colab_type": "code",
    "executionInfo": {
     "elapsed": 2849,
     "status": "ok",
     "timestamp": 1560478963998,
     "user": {
      "displayName": "Gustavo Aguilar",
      "photoUrl": "https://lh3.googleusercontent.com/-sWZXymKE-20/AAAAAAAAAAI/AAAAAAAAAL8/8xRfEfa7OAo/s64/photo.jpg",
      "userId": "07684403321470028592"
     },
     "user_tz": 180
    },
    "id": "UaxDf7UeiAxw",
    "outputId": "47afb249-02fc-4816-c25b-ba807b722dfb"
   },
   "outputs": [],
   "source": [
    "def leitura(dataset, nome):\n",
    "\n",
    "    # Carrega o .arff\n",
    "    raw_data = loadarff('../Prática 1/Extraidos/%s/%s.arff' % (dataset, nome))\n",
    "    # Transforma o .arff em um Pandas Dataframe\n",
    "    return pd.DataFrame(raw_data[0])\n",
    "    # Imprime o Dataframe com suas colunas"
   ]
  },
  {
   "cell_type": "markdown",
   "metadata": {
    "colab_type": "text",
    "id": "xuZaDNj5j07X"
   },
   "source": [
    "**Separando em Conjunto de Treino e Teste**"
   ]
  },
  {
   "cell_type": "code",
   "execution_count": 6,
   "metadata": {
    "colab": {
     "base_uri": "https://localhost:8080/",
     "height": 51
    },
    "colab_type": "code",
    "executionInfo": {
     "elapsed": 600,
     "status": "ok",
     "timestamp": 1560478971846,
     "user": {
      "displayName": "Gustavo Aguilar",
      "photoUrl": "https://lh3.googleusercontent.com/-sWZXymKE-20/AAAAAAAAAAI/AAAAAAAAAL8/8xRfEfa7OAo/s64/photo.jpg",
      "userId": "07684403321470028592"
     },
     "user_tz": 180
    },
    "id": "tXVE9K-lj6ib",
    "outputId": "4c1f849a-61d9-4620-c3d1-df0cfc7b3adc"
   },
   "outputs": [],
   "source": [
    "# Com o iloc voce retira as linhas e colunas que quiser do Dataframe, no caso aqui sem as classes\n",
    "def treinoTeste(df):\n",
    "\n",
    "    X = df.iloc[:, 0:-1].values\n",
    "\n",
    "    # Aqui salvamos apenas as classes agora\n",
    "    y = df['class']\n",
    "    # Substituimos os valores binários por inteiro\n",
    "    bow = []\n",
    "    int_value = 0\n",
    "    y_aux = []\n",
    "    for i in y:\n",
    "      if i in bow:\n",
    "        y_aux.append(int_value)\n",
    "      else:\n",
    "        bow.append(i)\n",
    "        int_value += 1\n",
    "        y_aux.append(int_value)\n",
    "    # Novo y\n",
    "    y = y_aux\n",
    "    \n",
    "    return train_test_split(X,y,test_size=0.2,random_state=327)"
   ]
  },
  {
   "cell_type": "markdown",
   "metadata": {
    "colab_type": "text",
    "id": "s7kkCB_fkZ3A"
   },
   "source": [
    "**Padronizando os dados com Técnicas de Normalização**"
   ]
  },
  {
   "cell_type": "code",
   "execution_count": 7,
   "metadata": {
    "colab": {},
    "colab_type": "code",
    "id": "PTiyWptKkcn_"
   },
   "outputs": [],
   "source": [
    "def normalizar(X_train, X_test, selectedNormalization):\n",
    "\n",
    "    if selectedNormalization == 0:\n",
    "        return X_train, X_test\n",
    "    if selectedNormalization == 1:\n",
    "        scaler = preprocessing.MinMaxScaler()\n",
    "    if selectedNormalization == 2:\n",
    "        scaler = preprocessing.StandardScaler()\n",
    "    if selectedNormalization == 3:\n",
    "        scaler = preprocessing.MaxAbsScaler()\n",
    "    if selectedNormalization == 4:\n",
    "        scaler = preprocessing.RobustScaler()\n",
    "\n",
    "    X_train = scaler.fit_transform(X_train)\n",
    "    X_test = scaler.transform(X_test)\n",
    "    \n",
    "    return X_train, X_test"
   ]
  },
  {
   "cell_type": "markdown",
   "metadata": {
    "colab_type": "text",
    "id": "v8IREMYFr5e3"
   },
   "source": [
    "**Treinando os Classificadores**"
   ]
  },
  {
   "cell_type": "code",
   "execution_count": 8,
   "metadata": {},
   "outputs": [],
   "source": [
    "def treinarClassificadores(classificador, X_train, X_test, y_train, y_test):\n",
    "        \n",
    "    cls = classificador\n",
    "    cls.fit(X_train, y_train)\n",
    "    t = time.time()\n",
    "    aux = classificador.predict(X_test)\n",
    "    f1score   = f1_score(y_test, aux, average = 'macro')\n",
    "#     precision = precision_score(y_test, aux, average = 'macro')\n",
    "#     recall    = recall_score(y_test, aux, average = 'macro')\n",
    "    acc_train = classificador.score(X_train, y_train)\n",
    "    acc_test  = classificador.score(X_test, y_test)\n",
    "    tempoExe  = time.time() - t\n",
    "        \n",
    "    return acc_train, acc_test, f1score, tempoExe"
   ]
  },
  {
   "cell_type": "markdown",
   "metadata": {
    "colab_type": "text",
    "id": "PCcdJOpLWJyH"
   },
   "source": [
    "**Testando o Conjunto de Teste**"
   ]
  },
  {
   "cell_type": "code",
   "execution_count": 9,
   "metadata": {},
   "outputs": [],
   "source": [
    "def grid(dataset):\n",
    "    \n",
    "    normDic = {'0': 'não aplicado', '1': 'MinMaxScaler', '2': 'StandardScaler',\n",
    "               '3': 'MaxAbsScaler', '4': 'RobustScaler'}\n",
    "    extratores = ['AutoColorCorrelogram', 'FCTH', 'Gabor', 'GCH', 'LBP', 'LCH', \n",
    "                  'Moments', 'ReferenceColorSimilarity']\n",
    "    nomes = ['Extrator', 'Normalizador', 'Classificador', 'Tempo', 'Acurácia', 'F1 Score']\n",
    "    classificadores = [(GaussianNB(), 'Gaussian Naive Bayes'), (LogisticRegression(), 'Logistic Regression'), \n",
    "                       (DecisionTreeClassifier(), 'Decision Tree'), (KNeighborsClassifier(n_neighbors = 3), 'KNN'),\n",
    "                       (LinearDiscriminantAnalysis(), 'Linear Discriminant Analysis'), (SVC(), 'SVM'), \n",
    "                       (RandomForestClassifier(random_state=42), 'Random Forest'), (MLPClassifier(alpha=1), 'MLP')]\n",
    "    \n",
    "    analise = []\n",
    "    \n",
    "    for extrator in extratores:\n",
    "        \n",
    "        df = leitura(dataset, extrator)\n",
    "        \n",
    "        for norm in range(5):\n",
    "            X_train, X_test, y_train, y_test = treinoTeste(df)\n",
    "            X_train, X_test = normalizar(X_train, X_test, norm)\n",
    "            \n",
    "            for cls, nome in classificadores:\n",
    "                dados = treinarClassificadores(cls, X_train, X_test, y_train, y_test)\n",
    "                acc_train, acc_test, f1score, tempoExe = dados\n",
    "            \n",
    "                resultados = [extrator, normDic[str(norm)], nome, tempoExe, acc_test, f1score]\n",
    "            \n",
    "                analise.append(resultados)\n",
    "            \n",
    "    return pd.DataFrame(analise, columns=nomes).set_index(['Extrator', 'Normalizador', 'Classificador'])"
   ]
  },
  {
   "cell_type": "code",
   "execution_count": 10,
   "metadata": {},
   "outputs": [],
   "source": [
    "def selecao(resultados):\n",
    "    \n",
    "    acc = (resultados['Acurácia'] + resultados['F1 Score']) / 2\n",
    "    \n",
    "    return pd.DataFrame(resultados.loc[np.argmax(acc), :]).T"
   ]
  },
  {
   "cell_type": "code",
   "execution_count": 15,
   "metadata": {},
   "outputs": [],
   "source": [
    "predator = grid('Alien-vs-Predator')"
   ]
  },
  {
   "cell_type": "code",
   "execution_count": 23,
   "metadata": {},
   "outputs": [],
   "source": [
    "melhorPredator = selecao(predator)"
   ]
  },
  {
   "cell_type": "code",
   "execution_count": 24,
   "metadata": {},
   "outputs": [
    {
     "data": {
      "text/html": [
       "<div>\n",
       "<style scoped>\n",
       "    .dataframe tbody tr th:only-of-type {\n",
       "        vertical-align: middle;\n",
       "    }\n",
       "\n",
       "    .dataframe tbody tr th {\n",
       "        vertical-align: top;\n",
       "    }\n",
       "\n",
       "    .dataframe thead th {\n",
       "        text-align: right;\n",
       "    }\n",
       "</style>\n",
       "<table border=\"1\" class=\"dataframe\">\n",
       "  <thead>\n",
       "    <tr style=\"text-align: right;\">\n",
       "      <th></th>\n",
       "      <th></th>\n",
       "      <th></th>\n",
       "      <th>Tempo</th>\n",
       "      <th>Acurácia</th>\n",
       "      <th>F1 Score</th>\n",
       "    </tr>\n",
       "  </thead>\n",
       "  <tbody>\n",
       "    <tr>\n",
       "      <th>FCTH</th>\n",
       "      <th>não aplicado</th>\n",
       "      <th>MLP</th>\n",
       "      <td>0.004694</td>\n",
       "      <td>0.791367</td>\n",
       "      <td>0.791324</td>\n",
       "    </tr>\n",
       "  </tbody>\n",
       "</table>\n",
       "</div>"
      ],
      "text/plain": [
       "                          Tempo  Acurácia  F1 Score\n",
       "FCTH não aplicado MLP  0.004694  0.791367  0.791324"
      ]
     },
     "execution_count": 24,
     "metadata": {},
     "output_type": "execute_result"
    }
   ],
   "source": [
    "melhorPredator"
   ]
  },
  {
   "cell_type": "code",
   "execution_count": 18,
   "metadata": {},
   "outputs": [],
   "source": [
    "rock = grid('Rock-Paper-Scissors')"
   ]
  },
  {
   "cell_type": "code",
   "execution_count": 21,
   "metadata": {},
   "outputs": [],
   "source": [
    "melhorRock = selecao(rock)"
   ]
  },
  {
   "cell_type": "code",
   "execution_count": 22,
   "metadata": {},
   "outputs": [
    {
     "data": {
      "text/html": [
       "<div>\n",
       "<style scoped>\n",
       "    .dataframe tbody tr th:only-of-type {\n",
       "        vertical-align: middle;\n",
       "    }\n",
       "\n",
       "    .dataframe tbody tr th {\n",
       "        vertical-align: top;\n",
       "    }\n",
       "\n",
       "    .dataframe thead th {\n",
       "        text-align: right;\n",
       "    }\n",
       "</style>\n",
       "<table border=\"1\" class=\"dataframe\">\n",
       "  <thead>\n",
       "    <tr style=\"text-align: right;\">\n",
       "      <th></th>\n",
       "      <th></th>\n",
       "      <th></th>\n",
       "      <th>Tempo</th>\n",
       "      <th>Acurácia</th>\n",
       "      <th>F1 Score</th>\n",
       "    </tr>\n",
       "  </thead>\n",
       "  <tbody>\n",
       "    <tr>\n",
       "      <th>LBP</th>\n",
       "      <th>RobustScaler</th>\n",
       "      <th>MLP</th>\n",
       "      <td>0.008467</td>\n",
       "      <td>0.949772</td>\n",
       "      <td>0.949882</td>\n",
       "    </tr>\n",
       "  </tbody>\n",
       "</table>\n",
       "</div>"
      ],
      "text/plain": [
       "                         Tempo  Acurácia  F1 Score\n",
       "LBP RobustScaler MLP  0.008467  0.949772  0.949882"
      ]
     },
     "execution_count": 22,
     "metadata": {},
     "output_type": "execute_result"
    }
   ],
   "source": [
    "melhorRock"
   ]
  },
  {
   "cell_type": "markdown",
   "metadata": {},
   "source": [
    "# O porquê\n",
    "## Alien vs Predator"
   ]
  },
  {
   "cell_type": "code",
   "execution_count": 25,
   "metadata": {},
   "outputs": [],
   "source": [
    "alien = leitura('Alien-vs-Predator', 'FCTH')"
   ]
  },
  {
   "cell_type": "code",
   "execution_count": 45,
   "metadata": {},
   "outputs": [
    {
     "data": {
      "text/html": [
       "<div>\n",
       "<style scoped>\n",
       "    .dataframe tbody tr th:only-of-type {\n",
       "        vertical-align: middle;\n",
       "    }\n",
       "\n",
       "    .dataframe tbody tr th {\n",
       "        vertical-align: top;\n",
       "    }\n",
       "\n",
       "    .dataframe thead th {\n",
       "        text-align: right;\n",
       "    }\n",
       "</style>\n",
       "<table border=\"1\" class=\"dataframe\">\n",
       "  <thead>\n",
       "    <tr style=\"text-align: right;\">\n",
       "      <th></th>\n",
       "      <th>count</th>\n",
       "      <th>mean</th>\n",
       "      <th>std</th>\n",
       "      <th>min</th>\n",
       "      <th>25%</th>\n",
       "      <th>50%</th>\n",
       "      <th>75%</th>\n",
       "      <th>max</th>\n",
       "    </tr>\n",
       "  </thead>\n",
       "  <tbody>\n",
       "    <tr>\n",
       "      <th>1</th>\n",
       "      <td>694.0</td>\n",
       "      <td>2.198847</td>\n",
       "      <td>2.862546</td>\n",
       "      <td>0.0</td>\n",
       "      <td>0.0</td>\n",
       "      <td>0.0</td>\n",
       "      <td>5.0</td>\n",
       "      <td>7.0</td>\n",
       "    </tr>\n",
       "    <tr>\n",
       "      <th>2</th>\n",
       "      <td>694.0</td>\n",
       "      <td>3.515850</td>\n",
       "      <td>1.997591</td>\n",
       "      <td>0.0</td>\n",
       "      <td>2.0</td>\n",
       "      <td>3.0</td>\n",
       "      <td>5.0</td>\n",
       "      <td>7.0</td>\n",
       "    </tr>\n",
       "    <tr>\n",
       "      <th>3</th>\n",
       "      <td>694.0</td>\n",
       "      <td>5.572046</td>\n",
       "      <td>1.964291</td>\n",
       "      <td>0.0</td>\n",
       "      <td>4.0</td>\n",
       "      <td>7.0</td>\n",
       "      <td>7.0</td>\n",
       "      <td>7.0</td>\n",
       "    </tr>\n",
       "    <tr>\n",
       "      <th>4</th>\n",
       "      <td>694.0</td>\n",
       "      <td>0.060519</td>\n",
       "      <td>0.338612</td>\n",
       "      <td>0.0</td>\n",
       "      <td>0.0</td>\n",
       "      <td>0.0</td>\n",
       "      <td>0.0</td>\n",
       "      <td>5.0</td>\n",
       "    </tr>\n",
       "    <tr>\n",
       "      <th>5</th>\n",
       "      <td>694.0</td>\n",
       "      <td>0.077810</td>\n",
       "      <td>0.455523</td>\n",
       "      <td>0.0</td>\n",
       "      <td>0.0</td>\n",
       "      <td>0.0</td>\n",
       "      <td>0.0</td>\n",
       "      <td>5.0</td>\n",
       "    </tr>\n",
       "  </tbody>\n",
       "</table>\n",
       "</div>"
      ],
      "text/plain": [
       "   count      mean       std  min  25%  50%  75%  max\n",
       "1  694.0  2.198847  2.862546  0.0  0.0  0.0  5.0  7.0\n",
       "2  694.0  3.515850  1.997591  0.0  2.0  3.0  5.0  7.0\n",
       "3  694.0  5.572046  1.964291  0.0  4.0  7.0  7.0  7.0\n",
       "4  694.0  0.060519  0.338612  0.0  0.0  0.0  0.0  5.0\n",
       "5  694.0  0.077810  0.455523  0.0  0.0  0.0  0.0  5.0"
      ]
     },
     "execution_count": 45,
     "metadata": {},
     "output_type": "execute_result"
    }
   ],
   "source": [
    "alien = alien.describe().T\n",
    "alien.head()"
   ]
  },
  {
   "cell_type": "code",
   "execution_count": 55,
   "metadata": {},
   "outputs": [
    {
     "data": {
      "text/plain": [
       "2.0651747702306515"
      ]
     },
     "execution_count": 55,
     "metadata": {},
     "output_type": "execute_result"
    }
   ],
   "source": [
    "np.std(alien['max'] - alien['min'])"
   ]
  },
  {
   "cell_type": "markdown",
   "metadata": {},
   "source": [
    "FCTH gera características baseado em cor e textura (192 características), as quais apresentam valores desnomalizados. Dataset Alien vs Predator tem diferentes cores e texturas entre as duas classes. Como observado acima, a variação entre as escalas das características são pequenas. Isso pode ter ocasionado a não normalização de nosso dataset"
   ]
  },
  {
   "cell_type": "markdown",
   "metadata": {},
   "source": [
    "## Rock Paper Scissor"
   ]
  },
  {
   "cell_type": "code",
   "execution_count": 30,
   "metadata": {},
   "outputs": [],
   "source": [
    "paper = leitura('Rock-Paper-Scissors', 'LBP')"
   ]
  },
  {
   "cell_type": "code",
   "execution_count": 47,
   "metadata": {},
   "outputs": [
    {
     "data": {
      "text/html": [
       "<div>\n",
       "<style scoped>\n",
       "    .dataframe tbody tr th:only-of-type {\n",
       "        vertical-align: middle;\n",
       "    }\n",
       "\n",
       "    .dataframe tbody tr th {\n",
       "        vertical-align: top;\n",
       "    }\n",
       "\n",
       "    .dataframe thead th {\n",
       "        text-align: right;\n",
       "    }\n",
       "</style>\n",
       "<table border=\"1\" class=\"dataframe\">\n",
       "  <thead>\n",
       "    <tr style=\"text-align: right;\">\n",
       "      <th></th>\n",
       "      <th>count</th>\n",
       "      <th>mean</th>\n",
       "      <th>std</th>\n",
       "      <th>min</th>\n",
       "      <th>25%</th>\n",
       "      <th>50%</th>\n",
       "      <th>75%</th>\n",
       "      <th>max</th>\n",
       "    </tr>\n",
       "  </thead>\n",
       "  <tbody>\n",
       "    <tr>\n",
       "      <th>1</th>\n",
       "      <td>2188.0</td>\n",
       "      <td>1504.161792</td>\n",
       "      <td>432.404538</td>\n",
       "      <td>483.0</td>\n",
       "      <td>1356.0</td>\n",
       "      <td>1652.0</td>\n",
       "      <td>1809.0</td>\n",
       "      <td>2257.0</td>\n",
       "    </tr>\n",
       "    <tr>\n",
       "      <th>2</th>\n",
       "      <td>2188.0</td>\n",
       "      <td>173.488117</td>\n",
       "      <td>62.074474</td>\n",
       "      <td>38.0</td>\n",
       "      <td>151.0</td>\n",
       "      <td>183.0</td>\n",
       "      <td>204.0</td>\n",
       "      <td>442.0</td>\n",
       "    </tr>\n",
       "    <tr>\n",
       "      <th>3</th>\n",
       "      <td>2188.0</td>\n",
       "      <td>466.110146</td>\n",
       "      <td>116.830851</td>\n",
       "      <td>128.0</td>\n",
       "      <td>380.0</td>\n",
       "      <td>467.0</td>\n",
       "      <td>542.0</td>\n",
       "      <td>914.0</td>\n",
       "    </tr>\n",
       "    <tr>\n",
       "      <th>4</th>\n",
       "      <td>2188.0</td>\n",
       "      <td>262.932815</td>\n",
       "      <td>50.409549</td>\n",
       "      <td>102.0</td>\n",
       "      <td>239.0</td>\n",
       "      <td>269.0</td>\n",
       "      <td>294.0</td>\n",
       "      <td>415.0</td>\n",
       "    </tr>\n",
       "    <tr>\n",
       "      <th>5</th>\n",
       "      <td>2188.0</td>\n",
       "      <td>203.561700</td>\n",
       "      <td>84.504891</td>\n",
       "      <td>34.0</td>\n",
       "      <td>148.0</td>\n",
       "      <td>188.0</td>\n",
       "      <td>266.0</td>\n",
       "      <td>458.0</td>\n",
       "    </tr>\n",
       "  </tbody>\n",
       "</table>\n",
       "</div>"
      ],
      "text/plain": [
       "    count         mean         std    min     25%     50%     75%     max\n",
       "1  2188.0  1504.161792  432.404538  483.0  1356.0  1652.0  1809.0  2257.0\n",
       "2  2188.0   173.488117   62.074474   38.0   151.0   183.0   204.0   442.0\n",
       "3  2188.0   466.110146  116.830851  128.0   380.0   467.0   542.0   914.0\n",
       "4  2188.0   262.932815   50.409549  102.0   239.0   269.0   294.0   415.0\n",
       "5  2188.0   203.561700   84.504891   34.0   148.0   188.0   266.0   458.0"
      ]
     },
     "execution_count": 47,
     "metadata": {},
     "output_type": "execute_result"
    }
   ],
   "source": [
    "paper = paper.describe().T\n",
    "paper.head()"
   ]
  },
  {
   "cell_type": "code",
   "execution_count": 54,
   "metadata": {},
   "outputs": [
    {
     "data": {
      "text/plain": [
       "764.9842407099286"
      ]
     },
     "execution_count": 54,
     "metadata": {},
     "output_type": "execute_result"
    }
   ],
   "source": [
    "np.std(paper['max'] - paper['min'])"
   ]
  },
  {
   "cell_type": "markdown",
   "metadata": {},
   "source": [
    "O conjunto não apresenta diferença significativa de cores, umas vez que estas são as mesmas. Assim, o melhor extrator para o dataset foi o LBP o qual só gera características baseado na textura. Outra característica dos dados é que após a aplicação do LBP, nossos descritores apresentam bastante variação quanto à escala, assim a aplicação de um normalizador veio a calhar"
   ]
  }
 ],
 "metadata": {
  "accelerator": "GPU",
  "colab": {
   "collapsed_sections": [],
   "name": "Prática Aprendizado Supervisionado.ipynb",
   "provenance": [
    {
     "file_id": "1W57NJR5lkPCZ6nk1IyONOMPjQ4UsruUR",
     "timestamp": 1560476210295
    }
   ],
   "toc_visible": true,
   "version": "0.3.2"
  },
  "kernelspec": {
   "display_name": "Python 3",
   "language": "python",
   "name": "python3"
  },
  "language_info": {
   "codemirror_mode": {
    "name": "ipython",
    "version": 3
   },
   "file_extension": ".py",
   "mimetype": "text/x-python",
   "name": "python",
   "nbconvert_exporter": "python",
   "pygments_lexer": "ipython3",
   "version": "3.7.3"
  }
 },
 "nbformat": 4,
 "nbformat_minor": 1
}
